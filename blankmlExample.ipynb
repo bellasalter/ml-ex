{
  "nbformat": 4,
  "nbformat_minor": 0,
  "metadata": {
    "colab": {
      "provenance": []
    },
    "kernelspec": {
      "name": "python3",
      "display_name": "Python 3"
    },
    "language_info": {
      "name": "python"
    }
  },
  "cells": [
    {
      "cell_type": "markdown",
      "source": [
        "This is an example of a simple linear model using a classic dataset about irises."
      ],
      "metadata": {
        "id": "NYbK6zDBQSum"
      }
    },
    {
      "cell_type": "code",
      "source": [
        "from google.colab import drive\n",
        "\n",
        "drive.mount('/content/drive')"
      ],
      "metadata": {
        "colab": {
          "base_uri": "https://localhost:8080/"
        },
        "id": "ozUCM2pTQ4Ii",
        "outputId": "b278470c-2db5-4263-90af-ca99007f1c38"
      },
      "execution_count": 1,
      "outputs": [
        {
          "output_type": "stream",
          "name": "stdout",
          "text": [
            "Mounted at /content/drive\n"
          ]
        }
      ]
    },
    {
      "cell_type": "code",
      "execution_count": 2,
      "metadata": {
        "colab": {
          "base_uri": "https://localhost:8080/"
        },
        "id": "DthOXCYiJc1Z",
        "outputId": "4a50591e-577c-416a-ce0f-890a712bcb9e"
      },
      "outputs": [
        {
          "output_type": "stream",
          "name": "stdout",
          "text": [
            "      Id  SepalLengthCm  SepalWidthCm  PetalLengthCm  PetalWidthCm  \\\n",
            "0      1            5.1           3.5            1.4           0.2   \n",
            "1      2            4.9           3.0            1.4           0.2   \n",
            "2      3            4.7           3.2            1.3           0.2   \n",
            "3      4            4.6           3.1            1.5           0.2   \n",
            "4      5            5.0           3.6            1.4           0.2   \n",
            "..   ...            ...           ...            ...           ...   \n",
            "145  146            6.7           3.0            5.2           2.3   \n",
            "146  147            6.3           2.5            5.0           1.9   \n",
            "147  148            6.5           3.0            5.2           2.0   \n",
            "148  149            6.2           3.4            5.4           2.3   \n",
            "149  150            5.9           3.0            5.1           1.8   \n",
            "\n",
            "            Species  \n",
            "0       Iris-setosa  \n",
            "1       Iris-setosa  \n",
            "2       Iris-setosa  \n",
            "3       Iris-setosa  \n",
            "4       Iris-setosa  \n",
            "..              ...  \n",
            "145  Iris-virginica  \n",
            "146  Iris-virginica  \n",
            "147  Iris-virginica  \n",
            "148  Iris-virginica  \n",
            "149  Iris-virginica  \n",
            "\n",
            "[150 rows x 6 columns]\n"
          ]
        }
      ],
      "source": [
        "import pandas as pd\n",
        "import numpy as np\n",
        "import matplotlib.pyplot as plt\n",
        "from sklearn import preprocessing, svm\n",
        "\n",
        "from sklearn.model_selection import train_test_split\n",
        "from sklearn import linear_model\n",
        "#from sklearn.linear_model import LinearRegression\n",
        "\n",
        "data = pd.read_csv(\"/content/drive/MyDrive/Colab Notebooks/Iris.csv\")\n",
        "print(data) # here, you can see that we have a few different data points about the plants"
      ]
    },
    {
      "cell_type": "code",
      "source": [
        "# we don't need all of the data, so let's choose one species.\n",
        "data = data[data[\"Species\"] == \"Iris-setosa\"]\n",
        "df = data[[\"SepalLengthCm\", \"PetalLengthCm\"]]\n",
        "print(df)"
      ],
      "metadata": {
        "colab": {
          "base_uri": "https://localhost:8080/"
        },
        "id": "l5K8tojDR6Hi",
        "outputId": "0ef4d885-66fb-442b-97aa-8ce8e3919530"
      },
      "execution_count": 4,
      "outputs": [
        {
          "output_type": "stream",
          "name": "stdout",
          "text": [
            "    SepalLengthCm  PetalLengthCm\n",
            "0             5.1            1.4\n",
            "1             4.9            1.4\n",
            "2             4.7            1.3\n",
            "3             4.6            1.5\n",
            "4             5.0            1.4\n",
            "5             5.4            1.7\n",
            "6             4.6            1.4\n",
            "7             5.0            1.5\n",
            "8             4.4            1.4\n",
            "9             4.9            1.5\n",
            "10            5.4            1.5\n",
            "11            4.8            1.6\n",
            "12            4.8            1.4\n",
            "13            4.3            1.1\n",
            "14            5.8            1.2\n",
            "15            5.7            1.5\n",
            "16            5.4            1.3\n",
            "17            5.1            1.4\n",
            "18            5.7            1.7\n",
            "19            5.1            1.5\n",
            "20            5.4            1.7\n",
            "21            5.1            1.5\n",
            "22            4.6            1.0\n",
            "23            5.1            1.7\n",
            "24            4.8            1.9\n",
            "25            5.0            1.6\n",
            "26            5.0            1.6\n",
            "27            5.2            1.5\n",
            "28            5.2            1.4\n",
            "29            4.7            1.6\n",
            "30            4.8            1.6\n",
            "31            5.4            1.5\n",
            "32            5.2            1.5\n",
            "33            5.5            1.4\n",
            "34            4.9            1.5\n",
            "35            5.0            1.2\n",
            "36            5.5            1.3\n",
            "37            4.9            1.5\n",
            "38            4.4            1.3\n",
            "39            5.1            1.5\n",
            "40            5.0            1.3\n",
            "41            4.5            1.3\n",
            "42            4.4            1.3\n",
            "43            5.0            1.6\n",
            "44            5.1            1.9\n",
            "45            4.8            1.4\n",
            "46            5.1            1.6\n",
            "47            4.6            1.4\n",
            "48            5.3            1.5\n",
            "49            5.0            1.4\n"
          ]
        }
      ]
    },
    {
      "cell_type": "markdown",
      "source": [
        "Now that we have a dataframe containing the sepal lengths and petal lengths of 49 flowers, let's try to predict the petal length based on the sepal length."
      ],
      "metadata": {
        "id": "08P1XzNgS_pG"
      }
    },
    {
      "cell_type": "markdown",
      "source": [
        "# Splitting our Test and Train Data\n",
        "Remember that one of the most important parts of machine learning is preventing overfitting and underfitting. Conveniently, scikit-learn can randomly split our data for us."
      ],
      "metadata": {
        "id": "YtFqhWaqTKij"
      }
    },
    {
      "cell_type": "code",
      "source": [
        "# First, we create NumPy arrays for our input and output\n",
        "\n",
        "# Now, let's split our data\n"
      ],
      "metadata": {
        "id": "VVyZqOoFTpgn"
      },
      "execution_count": null,
      "outputs": []
    },
    {
      "cell_type": "markdown",
      "source": [
        "# Linear Regression Model\n",
        "Now, in a few simple lines of code, we can create a linear regression model."
      ],
      "metadata": {
        "id": "y4Q_fbx3VFPh"
      }
    },
    {
      "cell_type": "code",
      "source": [
        "# We need to create a model and fit it to our data\n",
        "\n",
        "\n",
        "# Let's find a way to display the outputs\n"
      ],
      "metadata": {
        "id": "nhI2c7m6VLbn"
      },
      "execution_count": null,
      "outputs": []
    },
    {
      "cell_type": "markdown",
      "source": [
        "Let's create a graph to analyze the results of our model."
      ],
      "metadata": {
        "id": "56jci_gRV_Xu"
      }
    },
    {
      "cell_type": "code",
      "source": [
        "plt.scatter(petal_test, sepal_test, color = \"green\")\n",
        "plt.plot(petal_test, sepal_predictions, color = \"red\")\n",
        "plt.xlabel(\"Petal Length in CM\")\n",
        "plt.ylabel(\"Sepal Length in CM\")\n",
        "plt.show()\n",
        "#This isn't a very good prediction, so let's try to change the amount of data used for testing and training and see what happens."
      ],
      "metadata": {
        "colab": {
          "base_uri": "https://localhost:8080/",
          "height": 449
        },
        "id": "vQxN7RnVWDi7",
        "outputId": "2cec4ec3-7fbc-43a2-a590-684a6872f595"
      },
      "execution_count": null,
      "outputs": [
        {
          "output_type": "display_data",
          "data": {
            "text/plain": [
              "<Figure size 640x480 with 1 Axes>"
            ],
            "image/png": "[encoded data removed]"
          },
          "metadata": {}
        }
      ]
    }
  ]
}